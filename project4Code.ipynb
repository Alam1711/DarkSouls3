{
 "cells": [
  {
   "cell_type": "code",
   "execution_count": null,
   "metadata": {},
   "outputs": [
    {
     "ename": "",
     "evalue": "",
     "output_type": "error",
     "traceback": [
      "\u001b[1;31mRunning cells with 'c:\\Users\\Andre\\AppData\\Local\\Programs\\Python\\Python311\\python.exe' requires the ipykernel package.\n",
      "\u001b[1;31mRun the following command to install 'ipykernel' into the Python environment. \n",
      "\u001b[1;31mCommand: 'c:/Users/Andre/AppData/Local/Programs/Python/Python311/python.exe -m pip install ipykernel -U --user --force-reinstall'"
     ]
    }
   ],
   "source": [
    "# Load data into frame\n",
    "df = pd.read_csv('DS3_weapon.csv')\n",
    "\n",
    "# Extract the first value from the 'Physical' column and convert it to numeric\n",
    "df['Damage'] = df['Damage'].apply(lambda x: int(x.split('/')[0]))\n",
    "\n",
    "# Select relevant features (base damage output and weight)\n",
    "X = df[['Damage', 'Weight']]\n",
    "\n",
    "# Scale the features\n",
    "scaler = StandardScaler()\n",
    "X_scaled = scaler.fit_transform(X)\n",
    "\n",
    "# Create a categorical target variable based on base damage output\n",
    "df['damage_category'] = pd.cut(df['Damage'], bins=[-float('inf'), 80, 120, float('inf')], labels=['Less than 80', '80-120', 'More than 120'])\n",
    "\n",
    "# Apply KMeans clustering\n",
    "kmeans = KMeans(n_clusters=3, random_state=42)\n",
    "df['cluster'] = kmeans.fit_predict(X_scaled)\n",
    "\n",
    "# Apply PCA for visualization\n",
    "pca = PCA(n_components=2)\n",
    "X_pca = pca.fit_transform(X_scaled)\n",
    "\n",
    "# Plot the clusters with decision boundaries\n",
    "plt.figure(figsize=(14, 8))\n",
    "\n",
    "# Scatter plot for weapons with base damage <= 80\n",
    "plt.scatter(df['Damage'][df['damage_category'] == 'Less than 80'], df['Weight'][df['damage_category'] == 'Less than 80'], c='blue', label='Base Damage <= 80')\n",
    "\n",
    "# Scatter plot for weapons with base damage between 80 and 120\n",
    "plt.scatter(df['Damage'][df['damage_category'] == '80-120'], df['Weight'][df['damage_category'] == '80-120'], c='green', label='80 < Base Damage <= 120')\n",
    "\n",
    "# Scatter plot for weapons with base damage > 120 (marked with a red circle)\n",
    "red_dots = df[df['damage_category'] == 'More than 120']\n",
    "plt.scatter(red_dots['Damage'], red_dots['Weight'], c='red', label='Base Damage > 120')\n",
    "\n",
    "plt.title('KMeans Clustering of Weapons based on Base Damage Output, Weight, and Damage Category')\n",
    "plt.xlabel('Base Damage')\n",
    "plt.ylabel('Weight')\n",
    "plt.legend()\n",
    "\n",
    "plt.show()"
   ]
  }
 ],
 "metadata": {
  "kernelspec": {
   "display_name": "Python 3",
   "language": "python",
   "name": "python3"
  },
  "language_info": {
   "name": "python",
   "version": "3.11.3"
  }
 },
 "nbformat": 4,
 "nbformat_minor": 2
}
